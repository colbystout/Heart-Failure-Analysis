{
    "metadata": {
        "kernelspec": {
            "name": "SQL",
            "display_name": "SQL",
            "language": "sql"
        },
        "language_info": {
            "name": "sql",
            "version": ""
        }
    },
    "nbformat_minor": 2,
    "nbformat": 4,
    "cells": [
        {
            "cell_type": "markdown",
            "source": [
                "# Heart Failure Analysis\n",
                "\n",
                "## SQL Inspection"
            ],
            "metadata": {
                "azdata_cell_guid": "3ea129bd-de76-489c-a1e3-985e3c22208c"
            },
            "attachments": {}
        },
        {
            "cell_type": "code",
            "source": [
                "--Selecting top 10 for inspection\n",
                "SELECT TOP 10 *\n",
                "FROM Heartfailure;\n",
                "\n",
                "--The data is certified clean, so I will start with counts to get an idea of distributions across common diabetes indicators\n",
                "\n",
                "--Basic patient count\n",
                "SELECT\n",
                "    COUNT(Patient_ID) AS patient_count\n",
                "FROM Heartfailure;\n",
                "\n",
                "--Counting gender distribution\n",
                "SELECT \n",
                "    sex,\n",
                "    COUNT(sex) as gender_count\n",
                "FROM Heartfailure\n",
                "GROUP BY sex;\n",
                "\n",
                "--Counting anaemia distribution\n",
                "SELECT\n",
                "    sex,\n",
                "    COUNT(anaemia) as anaemia_count\n",
                "FROM Heartfailure\n",
                "WHERE anaemia = 1\n",
                "GROUP BY sex;\n",
                "\n",
                "--Counting high blood pressure\n",
                "SELECT\n",
                "    sex,\n",
                "    COUNT(high_blood_pressure) as high_bp_count\n",
                "FROM Heartfailure\n",
                "WHERE high_blood_pressure = 1\n",
                "GROUP BY sex;\n",
                "\n",
                "--Counting smokers per gender\n",
                "SELECT\n",
                "    sex,\n",
                "    COUNT(smoking) AS smoker\n",
                "FROM Heartfailure\n",
                "WHERE smoking = 1\n",
                "GROUP BY sex;\n",
                "\n",
                "--Counting diabetes per gender\n",
                "SELECT\n",
                "    sex,\n",
                "    COUNT(diabetes) AS diabetic\n",
                "FROM Heartfailure\n",
                "WHERE diabetes = 1\n",
                "GROUP BY sex;\n",
                "\n",
                "--Counting deaths per gender\n",
                "SELECT\n",
                "    sex,\n",
                "    COUNT(DEATH_EVENT) as deaths\n",
                "FROM Heartfailure\n",
                "WHERE DEATH_EVENT = 1\n",
                "GROUP BY sex"
            ],
            "metadata": {
                "azdata_cell_guid": "dbc4378a-bc7d-4a91-82c4-0e6622dc92cc",
                "language": "sql",
                "tags": []
            },
            "outputs": [
                {
                    "output_type": "display_data",
                    "data": {
                        "text/html": "(10 rows affected)"
                    },
                    "metadata": {}
                },
                {
                    "output_type": "display_data",
                    "data": {
                        "text/html": "(1 row affected)"
                    },
                    "metadata": {}
                },
                {
                    "output_type": "display_data",
                    "data": {
                        "text/html": "(2 rows affected)"
                    },
                    "metadata": {}
                },
                {
                    "output_type": "display_data",
                    "data": {
                        "text/html": "(2 rows affected)"
                    },
                    "metadata": {}
                },
                {
                    "output_type": "display_data",
                    "data": {
                        "text/html": "(2 rows affected)"
                    },
                    "metadata": {}
                },
                {
                    "output_type": "display_data",
                    "data": {
                        "text/html": "(2 rows affected)"
                    },
                    "metadata": {}
                },
                {
                    "output_type": "display_data",
                    "data": {
                        "text/html": "(2 rows affected)"
                    },
                    "metadata": {}
                },
                {
                    "output_type": "display_data",
                    "data": {
                        "text/html": "(2 rows affected)"
                    },
                    "metadata": {}
                },
                {
                    "output_type": "display_data",
                    "data": {
                        "text/html": "Total execution time: 00:00:00.051"
                    },
                    "metadata": {}
                },
                {
                    "output_type": "execute_result",
                    "execution_count": 7,
                    "data": {
                        "application/vnd.dataresource+json": {
                            "schema": {
                                "fields": [
                                    {
                                        "name": "Patient_ID"
                                    },
                                    {
                                        "name": "age"
                                    },
                                    {
                                        "name": "anaemia"
                                    },
                                    {
                                        "name": "creatinine_phosphokinase"
                                    },
                                    {
                                        "name": "diabetes"
                                    },
                                    {
                                        "name": "ejection_fraction"
                                    },
                                    {
                                        "name": "high_blood_pressure"
                                    },
                                    {
                                        "name": "platelets"
                                    },
                                    {
                                        "name": "serum_creatinine"
                                    },
                                    {
                                        "name": "serum_sodium"
                                    },
                                    {
                                        "name": "sex"
                                    },
                                    {
                                        "name": "smoking"
                                    },
                                    {
                                        "name": "time"
                                    },
                                    {
                                        "name": "DEATH_EVENT"
                                    }
                                ]
                            },
                            "data": [
                                {
                                    "0": "1",
                                    "1": "75",
                                    "2": "0",
                                    "3": "582",
                                    "4": "0",
                                    "5": "20",
                                    "6": "1",
                                    "7": "265000",
                                    "8": "1.9",
                                    "9": "130",
                                    "10": "M",
                                    "11": "0",
                                    "12": "4",
                                    "13": "1"
                                },
                                {
                                    "0": "2",
                                    "1": "55",
                                    "2": "0",
                                    "3": "7861",
                                    "4": "0",
                                    "5": "38",
                                    "6": "0",
                                    "7": "263358.03",
                                    "8": "1.1",
                                    "9": "136",
                                    "10": "M",
                                    "11": "0",
                                    "12": "6",
                                    "13": "1"
                                },
                                {
                                    "0": "3",
                                    "1": "65",
                                    "2": "0",
                                    "3": "146",
                                    "4": "0",
                                    "5": "20",
                                    "6": "0",
                                    "7": "162000",
                                    "8": "1.3",
                                    "9": "129",
                                    "10": "M",
                                    "11": "1",
                                    "12": "7",
                                    "13": "1"
                                },
                                {
                                    "0": "4",
                                    "1": "50",
                                    "2": "1",
                                    "3": "111",
                                    "4": "0",
                                    "5": "20",
                                    "6": "0",
                                    "7": "210000",
                                    "8": "1.9",
                                    "9": "137",
                                    "10": "M",
                                    "11": "0",
                                    "12": "7",
                                    "13": "1"
                                },
                                {
                                    "0": "5",
                                    "1": "65",
                                    "2": "1",
                                    "3": "160",
                                    "4": "1",
                                    "5": "20",
                                    "6": "0",
                                    "7": "327000",
                                    "8": "2.7",
                                    "9": "116",
                                    "10": "F",
                                    "11": "0",
                                    "12": "8",
                                    "13": "1"
                                },
                                {
                                    "0": "6",
                                    "1": "90",
                                    "2": "1",
                                    "3": "47",
                                    "4": "0",
                                    "5": "40",
                                    "6": "1",
                                    "7": "204000",
                                    "8": "2.1",
                                    "9": "132",
                                    "10": "M",
                                    "11": "1",
                                    "12": "8",
                                    "13": "1"
                                },
                                {
                                    "0": "7",
                                    "1": "75",
                                    "2": "1",
                                    "3": "246",
                                    "4": "0",
                                    "5": "15",
                                    "6": "0",
                                    "7": "127000",
                                    "8": "1.2",
                                    "9": "137",
                                    "10": "M",
                                    "11": "0",
                                    "12": "10",
                                    "13": "1"
                                },
                                {
                                    "0": "8",
                                    "1": "60",
                                    "2": "1",
                                    "3": "315",
                                    "4": "1",
                                    "5": "60",
                                    "6": "0",
                                    "7": "454000",
                                    "8": "1.1",
                                    "9": "131",
                                    "10": "M",
                                    "11": "1",
                                    "12": "10",
                                    "13": "1"
                                },
                                {
                                    "0": "9",
                                    "1": "65",
                                    "2": "0",
                                    "3": "157",
                                    "4": "0",
                                    "5": "65",
                                    "6": "0",
                                    "7": "263358.03",
                                    "8": "1.5",
                                    "9": "138",
                                    "10": "F",
                                    "11": "0",
                                    "12": "10",
                                    "13": "1"
                                },
                                {
                                    "0": "10",
                                    "1": "80",
                                    "2": "1",
                                    "3": "123",
                                    "4": "0",
                                    "5": "35",
                                    "6": "1",
                                    "7": "388000",
                                    "8": "9.4",
                                    "9": "133",
                                    "10": "M",
                                    "11": "1",
                                    "12": "10",
                                    "13": "1"
                                }
                            ]
                        },
                        "text/html": "<table><tr><th>Patient_ID</th><th>age</th><th>anaemia</th><th>creatinine_phosphokinase</th><th>diabetes</th><th>ejection_fraction</th><th>high_blood_pressure</th><th>platelets</th><th>serum_creatinine</th><th>serum_sodium</th><th>sex</th><th>smoking</th><th>time</th><th>DEATH_EVENT</th></tr><tr><td>1</td><td>75</td><td>0</td><td>582</td><td>0</td><td>20</td><td>1</td><td>265000</td><td>1.9</td><td>130</td><td>M</td><td>0</td><td>4</td><td>1</td></tr><tr><td>2</td><td>55</td><td>0</td><td>7861</td><td>0</td><td>38</td><td>0</td><td>263358.03</td><td>1.1</td><td>136</td><td>M</td><td>0</td><td>6</td><td>1</td></tr><tr><td>3</td><td>65</td><td>0</td><td>146</td><td>0</td><td>20</td><td>0</td><td>162000</td><td>1.3</td><td>129</td><td>M</td><td>1</td><td>7</td><td>1</td></tr><tr><td>4</td><td>50</td><td>1</td><td>111</td><td>0</td><td>20</td><td>0</td><td>210000</td><td>1.9</td><td>137</td><td>M</td><td>0</td><td>7</td><td>1</td></tr><tr><td>5</td><td>65</td><td>1</td><td>160</td><td>1</td><td>20</td><td>0</td><td>327000</td><td>2.7</td><td>116</td><td>F</td><td>0</td><td>8</td><td>1</td></tr><tr><td>6</td><td>90</td><td>1</td><td>47</td><td>0</td><td>40</td><td>1</td><td>204000</td><td>2.1</td><td>132</td><td>M</td><td>1</td><td>8</td><td>1</td></tr><tr><td>7</td><td>75</td><td>1</td><td>246</td><td>0</td><td>15</td><td>0</td><td>127000</td><td>1.2</td><td>137</td><td>M</td><td>0</td><td>10</td><td>1</td></tr><tr><td>8</td><td>60</td><td>1</td><td>315</td><td>1</td><td>60</td><td>0</td><td>454000</td><td>1.1</td><td>131</td><td>M</td><td>1</td><td>10</td><td>1</td></tr><tr><td>9</td><td>65</td><td>0</td><td>157</td><td>0</td><td>65</td><td>0</td><td>263358.03</td><td>1.5</td><td>138</td><td>F</td><td>0</td><td>10</td><td>1</td></tr><tr><td>10</td><td>80</td><td>1</td><td>123</td><td>0</td><td>35</td><td>1</td><td>388000</td><td>9.4</td><td>133</td><td>M</td><td>1</td><td>10</td><td>1</td></tr></table>"
                    },
                    "metadata": {}
                },
                {
                    "output_type": "execute_result",
                    "execution_count": 7,
                    "data": {
                        "application/vnd.dataresource+json": {
                            "schema": {
                                "fields": [
                                    {
                                        "name": "patient_count"
                                    }
                                ]
                            },
                            "data": [
                                {
                                    "0": "299"
                                }
                            ]
                        },
                        "text/html": "<table><tr><th>patient_count</th></tr><tr><td>299</td></tr></table>"
                    },
                    "metadata": {}
                },
                {
                    "output_type": "execute_result",
                    "execution_count": 7,
                    "data": {
                        "application/vnd.dataresource+json": {
                            "schema": {
                                "fields": [
                                    {
                                        "name": "sex"
                                    },
                                    {
                                        "name": "gender_count"
                                    }
                                ]
                            },
                            "data": [
                                {
                                    "0": "F",
                                    "1": "105"
                                },
                                {
                                    "0": "M",
                                    "1": "194"
                                }
                            ]
                        },
                        "text/html": "<table><tr><th>sex</th><th>gender_count</th></tr><tr><td>F</td><td>105</td></tr><tr><td>M</td><td>194</td></tr></table>"
                    },
                    "metadata": {}
                },
                {
                    "output_type": "execute_result",
                    "execution_count": 7,
                    "data": {
                        "application/vnd.dataresource+json": {
                            "schema": {
                                "fields": [
                                    {
                                        "name": "sex"
                                    },
                                    {
                                        "name": "anaemia_count"
                                    }
                                ]
                            },
                            "data": [
                                {
                                    "0": "F",
                                    "1": "52"
                                },
                                {
                                    "0": "M",
                                    "1": "77"
                                }
                            ]
                        },
                        "text/html": "<table><tr><th>sex</th><th>anaemia_count</th></tr><tr><td>F</td><td>52</td></tr><tr><td>M</td><td>77</td></tr></table>"
                    },
                    "metadata": {}
                },
                {
                    "output_type": "execute_result",
                    "execution_count": 7,
                    "data": {
                        "application/vnd.dataresource+json": {
                            "schema": {
                                "fields": [
                                    {
                                        "name": "sex"
                                    },
                                    {
                                        "name": "high_bp_count"
                                    }
                                ]
                            },
                            "data": [
                                {
                                    "0": "F",
                                    "1": "44"
                                },
                                {
                                    "0": "M",
                                    "1": "61"
                                }
                            ]
                        },
                        "text/html": "<table><tr><th>sex</th><th>high_bp_count</th></tr><tr><td>F</td><td>44</td></tr><tr><td>M</td><td>61</td></tr></table>"
                    },
                    "metadata": {}
                },
                {
                    "output_type": "execute_result",
                    "execution_count": 7,
                    "data": {
                        "application/vnd.dataresource+json": {
                            "schema": {
                                "fields": [
                                    {
                                        "name": "sex"
                                    },
                                    {
                                        "name": "smoker"
                                    }
                                ]
                            },
                            "data": [
                                {
                                    "0": "F",
                                    "1": "4"
                                },
                                {
                                    "0": "M",
                                    "1": "92"
                                }
                            ]
                        },
                        "text/html": "<table><tr><th>sex</th><th>smoker</th></tr><tr><td>F</td><td>4</td></tr><tr><td>M</td><td>92</td></tr></table>"
                    },
                    "metadata": {}
                },
                {
                    "output_type": "execute_result",
                    "execution_count": 7,
                    "data": {
                        "application/vnd.dataresource+json": {
                            "schema": {
                                "fields": [
                                    {
                                        "name": "sex"
                                    },
                                    {
                                        "name": "diabetic"
                                    }
                                ]
                            },
                            "data": [
                                {
                                    "0": "F",
                                    "1": "55"
                                },
                                {
                                    "0": "M",
                                    "1": "70"
                                }
                            ]
                        },
                        "text/html": "<table><tr><th>sex</th><th>diabetic</th></tr><tr><td>F</td><td>55</td></tr><tr><td>M</td><td>70</td></tr></table>"
                    },
                    "metadata": {}
                },
                {
                    "output_type": "execute_result",
                    "execution_count": 7,
                    "data": {
                        "application/vnd.dataresource+json": {
                            "schema": {
                                "fields": [
                                    {
                                        "name": "sex"
                                    },
                                    {
                                        "name": "deaths"
                                    }
                                ]
                            },
                            "data": [
                                {
                                    "0": "F",
                                    "1": "34"
                                },
                                {
                                    "0": "M",
                                    "1": "62"
                                }
                            ]
                        },
                        "text/html": "<table><tr><th>sex</th><th>deaths</th></tr><tr><td>F</td><td>34</td></tr><tr><td>M</td><td>62</td></tr></table>"
                    },
                    "metadata": {}
                }
            ],
            "execution_count": 7
        },
        {
            "cell_type": "markdown",
            "source": [
                "### Initial Inspection Results\n",
                "\n",
                "Early results indicate that nearly twice as many men are expected to experience heart failure than women as would be expected. Very few women were smokers, so this is likely not an indicator of heart failure for women. Smoking seems to account for almost half of men's heart attacks within this dataset.\n",
                "\n",
                "## Exploratory SQL Analysis\n",
                "\n",
                "### Looking at Age Distributions Across Attributes\n",
                "\n",
                "Aggregate functions are very useful for making histogram tables with ages. I can use counts, averages, and windows functions to find key areas of concern.\n",
                "\n",
                "The following table is _**Exhibit 1**_."
            ],
            "metadata": {
                "language": "sql",
                "azdata_cell_guid": "5470e262-21da-4b63-962f-4ae6f3bfd7cd"
            },
            "attachments": {}
        },
        {
            "cell_type": "code",
            "source": [
                "--Using window functions and an aggregate count to find age trends\n",
                "SELECT\n",
                "    age,\n",
                "    COUNT(*) AS age_count,\n",
                "    ROUND(AVG(platelets),2) AS avg_platelet_count,\n",
                "    ROUND(AVG(serum_creatinine),2) AS avg_creatine,\n",
                "    ROUND(AVG(serum_sodium),2) AS avg_sodium,\n",
                "    ROUND(AVG(ejection_fraction),2) AS avg_ejec_frac,\n",
                "    ROUND(AVG(age) OVER(),2) AS avg_age,\n",
                "    MIN(age) OVER() AS min_age,\n",
                "    MAX(age) OVER() AS max_age\n",
                "FROM Heartfailure\n",
                "GROUP BY age\n",
                "ORDER BY age_count DESC, age DESC;"
            ],
            "metadata": {
                "azdata_cell_guid": "09d3278f-e297-4794-9a07-15e869b1ec0e",
                "language": "sql",
                "tags": []
            },
            "outputs": [
                {
                    "output_type": "display_data",
                    "data": {
                        "text/html": "(47 rows affected)"
                    },
                    "metadata": {}
                },
                {
                    "output_type": "display_data",
                    "data": {
                        "text/html": "Total execution time: 00:00:00.018"
                    },
                    "metadata": {}
                },
                {
                    "output_type": "execute_result",
                    "execution_count": 8,
                    "data": {
                        "application/vnd.dataresource+json": {
                            "schema": {
                                "fields": [
                                    {
                                        "name": "age"
                                    },
                                    {
                                        "name": "age_count"
                                    },
                                    {
                                        "name": "avg_platelet_count"
                                    },
                                    {
                                        "name": "avg_creatine"
                                    },
                                    {
                                        "name": "avg_sodium"
                                    },
                                    {
                                        "name": "avg_ejec_frac"
                                    },
                                    {
                                        "name": "avg_age"
                                    },
                                    {
                                        "name": "min_age"
                                    },
                                    {
                                        "name": "max_age"
                                    }
                                ]
                            },
                            "data": [
                                {
                                    "0": "60",
                                    "1": "33",
                                    "2": "249536.85",
                                    "3": "1.9",
                                    "4": "136",
                                    "5": "38",
                                    "6": "63.82",
                                    "7": "40",
                                    "8": "95"
                                },
                                {
                                    "0": "50",
                                    "1": "27",
                                    "2": "257939.19",
                                    "3": "1.07",
                                    "4": "136",
                                    "5": "35",
                                    "6": "63.82",
                                    "7": "40",
                                    "8": "95"
                                },
                                {
                                    "0": "65",
                                    "1": "26",
                                    "2": "257387.47",
                                    "3": "1.36",
                                    "4": "136",
                                    "5": "37",
                                    "6": "63.82",
                                    "7": "40",
                                    "8": "95"
                                },
                                {
                                    "0": "70",
                                    "1": "25",
                                    "2": "258858.32",
                                    "3": "1.25",
                                    "4": "137",
                                    "5": "40",
                                    "6": "63.82",
                                    "7": "40",
                                    "8": "95"
                                },
                                {
                                    "0": "45",
                                    "1": "19",
                                    "2": "331300.85",
                                    "3": "1.02",
                                    "4": "137",
                                    "5": "39",
                                    "6": "63.82",
                                    "7": "40",
                                    "8": "95"
                                },
                                {
                                    "0": "55",
                                    "1": "17",
                                    "2": "272239.65",
                                    "3": "1.1",
                                    "4": "137",
                                    "5": "36",
                                    "6": "63.82",
                                    "7": "40",
                                    "8": "95"
                                },
                                {
                                    "0": "75",
                                    "1": "11",
                                    "2": "254097.64",
                                    "3": "1.7",
                                    "4": "134",
                                    "5": "36",
                                    "6": "63.82",
                                    "7": "40",
                                    "8": "95"
                                },
                                {
                                    "0": "58",
                                    "1": "10",
                                    "2": "245000",
                                    "3": "1.47",
                                    "4": "137",
                                    "5": "38",
                                    "6": "63.82",
                                    "7": "40",
                                    "8": "95"
                                },
                                {
                                    "0": "53",
                                    "1": "10",
                                    "2": "291135.8",
                                    "3": "1.24",
                                    "4": "136",
                                    "5": "46",
                                    "6": "63.82",
                                    "7": "40",
                                    "8": "95"
                                },
                                {
                                    "0": "63",
                                    "1": "8",
                                    "2": "255125",
                                    "3": "1.06",
                                    "4": "138",
                                    "5": "42",
                                    "6": "63.82",
                                    "7": "40",
                                    "8": "95"
                                },
                                {
                                    "0": "80",
                                    "1": "7",
                                    "2": "233051.15",
                                    "3": "3.04",
                                    "4": "136",
                                    "5": "32",
                                    "6": "63.82",
                                    "7": "40",
                                    "8": "95"
                                },
                                {
                                    "0": "72",
                                    "1": "7",
                                    "2": "316285.71",
                                    "3": "1.49",
                                    "4": "136",
                                    "5": "31",
                                    "6": "63.82",
                                    "7": "40",
                                    "8": "95"
                                },
                                {
                                    "0": "42",
                                    "1": "7",
                                    "2": "244051.15",
                                    "3": "1.47",
                                    "4": "137",
                                    "5": "35",
                                    "6": "63.82",
                                    "7": "40",
                                    "8": "95"
                                },
                                {
                                    "0": "40",
                                    "1": "7",
                                    "2": "262428.57",
                                    "3": "0.94",
                                    "4": "137",
                                    "5": "36",
                                    "6": "63.82",
                                    "7": "40",
                                    "8": "95"
                                },
                                {
                                    "0": "85",
                                    "1": "6",
                                    "2": "306166.67",
                                    "3": "1.77",
                                    "4": "134",
                                    "5": "48",
                                    "6": "63.82",
                                    "7": "40",
                                    "8": "95"
                                },
                                {
                                    "0": "68",
                                    "1": "5",
                                    "2": "247800",
                                    "3": "1.22",
                                    "4": "136",
                                    "5": "36",
                                    "6": "63.82",
                                    "7": "40",
                                    "8": "95"
                                },
                                {
                                    "0": "62",
                                    "1": "5",
                                    "2": "231200",
                                    "3": "0.92",
                                    "4": "138",
                                    "5": "39",
                                    "6": "63.82",
                                    "7": "40",
                                    "8": "95"
                                },
                                {
                                    "0": "52",
                                    "1": "5",
                                    "2": "307200",
                                    "3": "1",
                                    "4": "138",
                                    "5": "34",
                                    "6": "63.82",
                                    "7": "40",
                                    "8": "95"
                                },
                                {
                                    "0": "73",
                                    "1": "4",
                                    "2": "211589.51",
                                    "3": "1.3",
                                    "4": "137",
                                    "5": "31",
                                    "6": "63.82",
                                    "7": "40",
                                    "8": "95"
                                },
                                {
                                    "0": "61",
                                    "1": "4",
                                    "2": "231250",
                                    "3": "1.05",
                                    "4": "138",
                                    "5": "36",
                                    "6": "63.82",
                                    "7": "40",
                                    "8": "95"
                                },
                                {
                                    "0": "59",
                                    "1": "4",
                                    "2": "238750",
                                    "3": "1.38",
                                    "4": "137",
                                    "5": "28",
                                    "6": "63.82",
                                    "7": "40",
                                    "8": "95"
                                },
                                {
                                    "0": "51",
                                    "1": "4",
                                    "2": "290339.51",
                                    "3": "1",
                                    "4": "135",
                                    "5": "37",
                                    "6": "63.82",
                                    "7": "40",
                                    "8": "95"
                                },
                                {
                                    "0": "49",
                                    "1": "4",
                                    "2": "286500",
                                    "3": "0.98",
                                    "4": "136",
                                    "5": "33",
                                    "6": "63.82",
                                    "7": "40",
                                    "8": "95"
                                },
                                {
                                    "0": "90",
                                    "1": "3",
                                    "2": "273333.33",
                                    "3": "1.33",
                                    "4": "136",
                                    "5": "42",
                                    "6": "63.82",
                                    "7": "40",
                                    "8": "95"
                                },
                                {
                                    "0": "82",
                                    "1": "3",
                                    "2": "189333.33",
                                    "3": "1.17",
                                    "4": "137",
                                    "5": "43",
                                    "6": "63.82",
                                    "7": "40",
                                    "8": "95"
                                },
                                {
                                    "0": "69",
                                    "1": "3",
                                    "2": "199666.67",
                                    "3": "1.9",
                                    "4": "134",
                                    "5": "31",
                                    "6": "63.82",
                                    "7": "40",
                                    "8": "95"
                                },
                                {
                                    "0": "64",
                                    "1": "3",
                                    "2": "265666.67",
                                    "3": "1.63",
                                    "4": "135",
                                    "5": "48",
                                    "6": "63.82",
                                    "7": "40",
                                    "8": "95"
                                },
                                {
                                    "0": "46",
                                    "1": "3",
                                    "2": "294119.34",
                                    "3": "1.39",
                                    "4": "133",
                                    "5": "30",
                                    "6": "63.82",
                                    "7": "40",
                                    "8": "95"
                                },
                                {
                                    "0": "95",
                                    "1": "2",
                                    "2": "328500",
                                    "3": "1.5",
                                    "4": "135",
                                    "5": "35",
                                    "6": "63.82",
                                    "7": "40",
                                    "8": "95"
                                },
                                {
                                    "0": "78",
                                    "1": "2",
                                    "2": "379000",
                                    "3": "1.05",
                                    "4": "137",
                                    "5": "45",
                                    "6": "63.82",
                                    "7": "40",
                                    "8": "95"
                                },
                                {
                                    "0": "77",
                                    "1": "2",
                                    "2": "314500",
                                    "3": "1.45",
                                    "4": "141",
                                    "5": "47",
                                    "6": "63.82",
                                    "7": "40",
                                    "8": "95"
                                },
                                {
                                    "0": "67",
                                    "1": "2",
                                    "2": "239179.02",
                                    "3": "1.19",
                                    "4": "135",
                                    "5": "44",
                                    "6": "63.82",
                                    "7": "40",
                                    "8": "95"
                                },
                                {
                                    "0": "66",
                                    "1": "2",
                                    "2": "202000",
                                    "3": "1.1",
                                    "4": "135",
                                    "5": "39",
                                    "6": "63.82",
                                    "7": "40",
                                    "8": "95"
                                },
                                {
                                    "0": "60.667",
                                    "1": "2",
                                    "2": "295000",
                                    "3": "1.25",
                                    "4": "136",
                                    "5": "35",
                                    "6": "63.82",
                                    "7": "40",
                                    "8": "95"
                                },
                                {
                                    "0": "57",
                                    "1": "2",
                                    "2": "288000",
                                    "3": "1.05",
                                    "4": "142",
                                    "5": "27",
                                    "6": "63.82",
                                    "7": "40",
                                    "8": "95"
                                },
                                {
                                    "0": "54",
                                    "1": "2",
                                    "2": "207500",
                                    "3": "5.4",
                                    "4": "135",
                                    "5": "54",
                                    "6": "63.82",
                                    "7": "40",
                                    "8": "95"
                                },
                                {
                                    "0": "48",
                                    "1": "2",
                                    "2": "165500",
                                    "3": "1.75",
                                    "4": "125",
                                    "5": "42",
                                    "6": "63.82",
                                    "7": "40",
                                    "8": "95"
                                },
                                {
                                    "0": "44",
                                    "1": "2",
                                    "2": "249179.02",
                                    "3": "1.15",
                                    "4": "134",
                                    "5": "35",
                                    "6": "63.82",
                                    "7": "40",
                                    "8": "95"
                                },
                                {
                                    "0": "94",
                                    "1": "1",
                                    "2": "263358.03",
                                    "3": "1.83",
                                    "4": "134",
                                    "5": "38",
                                    "6": "63.82",
                                    "7": "40",
                                    "8": "95"
                                },
                                {
                                    "0": "87",
                                    "1": "1",
                                    "2": "262000",
                                    "3": "0.9",
                                    "4": "140",
                                    "5": "38",
                                    "6": "63.82",
                                    "7": "40",
                                    "8": "95"
                                },
                                {
                                    "0": "86",
                                    "1": "1",
                                    "2": "263358.03",
                                    "3": "1.83",
                                    "4": "134",
                                    "5": "38",
                                    "6": "63.82",
                                    "7": "40",
                                    "8": "95"
                                },
                                {
                                    "0": "81",
                                    "1": "1",
                                    "2": "231000",
                                    "3": "1.18",
                                    "4": "137",
                                    "5": "35",
                                    "6": "63.82",
                                    "7": "40",
                                    "8": "95"
                                },
                                {
                                    "0": "79",
                                    "1": "1",
                                    "2": "172000",
                                    "3": "1.8",
                                    "4": "133",
                                    "5": "50",
                                    "6": "63.82",
                                    "7": "40",
                                    "8": "95"
                                },
                                {
                                    "0": "56",
                                    "1": "1",
                                    "2": "133000",
                                    "3": "1.7",
                                    "4": "140",
                                    "5": "38",
                                    "6": "63.82",
                                    "7": "40",
                                    "8": "95"
                                },
                                {
                                    "0": "47",
                                    "1": "1",
                                    "2": "130000",
                                    "3": "0.8",
                                    "4": "134",
                                    "5": "25",
                                    "6": "63.82",
                                    "7": "40",
                                    "8": "95"
                                },
                                {
                                    "0": "43",
                                    "1": "1",
                                    "2": "237000",
                                    "3": "1.3",
                                    "4": "135",
                                    "5": "50",
                                    "6": "63.82",
                                    "7": "40",
                                    "8": "95"
                                },
                                {
                                    "0": "41",
                                    "1": "1",
                                    "2": "374000",
                                    "3": "0.8",
                                    "4": "140",
                                    "5": "40",
                                    "6": "63.82",
                                    "7": "40",
                                    "8": "95"
                                }
                            ]
                        },
                        "text/html": "<table><tr><th>age</th><th>age_count</th><th>avg_platelet_count</th><th>avg_creatine</th><th>avg_sodium</th><th>avg_ejec_frac</th><th>avg_age</th><th>min_age</th><th>max_age</th></tr><tr><td>60</td><td>33</td><td>249536.85</td><td>1.9</td><td>136</td><td>38</td><td>63.82</td><td>40</td><td>95</td></tr><tr><td>50</td><td>27</td><td>257939.19</td><td>1.07</td><td>136</td><td>35</td><td>63.82</td><td>40</td><td>95</td></tr><tr><td>65</td><td>26</td><td>257387.47</td><td>1.36</td><td>136</td><td>37</td><td>63.82</td><td>40</td><td>95</td></tr><tr><td>70</td><td>25</td><td>258858.32</td><td>1.25</td><td>137</td><td>40</td><td>63.82</td><td>40</td><td>95</td></tr><tr><td>45</td><td>19</td><td>331300.85</td><td>1.02</td><td>137</td><td>39</td><td>63.82</td><td>40</td><td>95</td></tr><tr><td>55</td><td>17</td><td>272239.65</td><td>1.1</td><td>137</td><td>36</td><td>63.82</td><td>40</td><td>95</td></tr><tr><td>75</td><td>11</td><td>254097.64</td><td>1.7</td><td>134</td><td>36</td><td>63.82</td><td>40</td><td>95</td></tr><tr><td>58</td><td>10</td><td>245000</td><td>1.47</td><td>137</td><td>38</td><td>63.82</td><td>40</td><td>95</td></tr><tr><td>53</td><td>10</td><td>291135.8</td><td>1.24</td><td>136</td><td>46</td><td>63.82</td><td>40</td><td>95</td></tr><tr><td>63</td><td>8</td><td>255125</td><td>1.06</td><td>138</td><td>42</td><td>63.82</td><td>40</td><td>95</td></tr><tr><td>80</td><td>7</td><td>233051.15</td><td>3.04</td><td>136</td><td>32</td><td>63.82</td><td>40</td><td>95</td></tr><tr><td>72</td><td>7</td><td>316285.71</td><td>1.49</td><td>136</td><td>31</td><td>63.82</td><td>40</td><td>95</td></tr><tr><td>42</td><td>7</td><td>244051.15</td><td>1.47</td><td>137</td><td>35</td><td>63.82</td><td>40</td><td>95</td></tr><tr><td>40</td><td>7</td><td>262428.57</td><td>0.94</td><td>137</td><td>36</td><td>63.82</td><td>40</td><td>95</td></tr><tr><td>85</td><td>6</td><td>306166.67</td><td>1.77</td><td>134</td><td>48</td><td>63.82</td><td>40</td><td>95</td></tr><tr><td>68</td><td>5</td><td>247800</td><td>1.22</td><td>136</td><td>36</td><td>63.82</td><td>40</td><td>95</td></tr><tr><td>62</td><td>5</td><td>231200</td><td>0.92</td><td>138</td><td>39</td><td>63.82</td><td>40</td><td>95</td></tr><tr><td>52</td><td>5</td><td>307200</td><td>1</td><td>138</td><td>34</td><td>63.82</td><td>40</td><td>95</td></tr><tr><td>73</td><td>4</td><td>211589.51</td><td>1.3</td><td>137</td><td>31</td><td>63.82</td><td>40</td><td>95</td></tr><tr><td>61</td><td>4</td><td>231250</td><td>1.05</td><td>138</td><td>36</td><td>63.82</td><td>40</td><td>95</td></tr><tr><td>59</td><td>4</td><td>238750</td><td>1.38</td><td>137</td><td>28</td><td>63.82</td><td>40</td><td>95</td></tr><tr><td>51</td><td>4</td><td>290339.51</td><td>1</td><td>135</td><td>37</td><td>63.82</td><td>40</td><td>95</td></tr><tr><td>49</td><td>4</td><td>286500</td><td>0.98</td><td>136</td><td>33</td><td>63.82</td><td>40</td><td>95</td></tr><tr><td>90</td><td>3</td><td>273333.33</td><td>1.33</td><td>136</td><td>42</td><td>63.82</td><td>40</td><td>95</td></tr><tr><td>82</td><td>3</td><td>189333.33</td><td>1.17</td><td>137</td><td>43</td><td>63.82</td><td>40</td><td>95</td></tr><tr><td>69</td><td>3</td><td>199666.67</td><td>1.9</td><td>134</td><td>31</td><td>63.82</td><td>40</td><td>95</td></tr><tr><td>64</td><td>3</td><td>265666.67</td><td>1.63</td><td>135</td><td>48</td><td>63.82</td><td>40</td><td>95</td></tr><tr><td>46</td><td>3</td><td>294119.34</td><td>1.39</td><td>133</td><td>30</td><td>63.82</td><td>40</td><td>95</td></tr><tr><td>95</td><td>2</td><td>328500</td><td>1.5</td><td>135</td><td>35</td><td>63.82</td><td>40</td><td>95</td></tr><tr><td>78</td><td>2</td><td>379000</td><td>1.05</td><td>137</td><td>45</td><td>63.82</td><td>40</td><td>95</td></tr><tr><td>77</td><td>2</td><td>314500</td><td>1.45</td><td>141</td><td>47</td><td>63.82</td><td>40</td><td>95</td></tr><tr><td>67</td><td>2</td><td>239179.02</td><td>1.19</td><td>135</td><td>44</td><td>63.82</td><td>40</td><td>95</td></tr><tr><td>66</td><td>2</td><td>202000</td><td>1.1</td><td>135</td><td>39</td><td>63.82</td><td>40</td><td>95</td></tr><tr><td>60.667</td><td>2</td><td>295000</td><td>1.25</td><td>136</td><td>35</td><td>63.82</td><td>40</td><td>95</td></tr><tr><td>57</td><td>2</td><td>288000</td><td>1.05</td><td>142</td><td>27</td><td>63.82</td><td>40</td><td>95</td></tr><tr><td>54</td><td>2</td><td>207500</td><td>5.4</td><td>135</td><td>54</td><td>63.82</td><td>40</td><td>95</td></tr><tr><td>48</td><td>2</td><td>165500</td><td>1.75</td><td>125</td><td>42</td><td>63.82</td><td>40</td><td>95</td></tr><tr><td>44</td><td>2</td><td>249179.02</td><td>1.15</td><td>134</td><td>35</td><td>63.82</td><td>40</td><td>95</td></tr><tr><td>94</td><td>1</td><td>263358.03</td><td>1.83</td><td>134</td><td>38</td><td>63.82</td><td>40</td><td>95</td></tr><tr><td>87</td><td>1</td><td>262000</td><td>0.9</td><td>140</td><td>38</td><td>63.82</td><td>40</td><td>95</td></tr><tr><td>86</td><td>1</td><td>263358.03</td><td>1.83</td><td>134</td><td>38</td><td>63.82</td><td>40</td><td>95</td></tr><tr><td>81</td><td>1</td><td>231000</td><td>1.18</td><td>137</td><td>35</td><td>63.82</td><td>40</td><td>95</td></tr><tr><td>79</td><td>1</td><td>172000</td><td>1.8</td><td>133</td><td>50</td><td>63.82</td><td>40</td><td>95</td></tr><tr><td>56</td><td>1</td><td>133000</td><td>1.7</td><td>140</td><td>38</td><td>63.82</td><td>40</td><td>95</td></tr><tr><td>47</td><td>1</td><td>130000</td><td>0.8</td><td>134</td><td>25</td><td>63.82</td><td>40</td><td>95</td></tr><tr><td>43</td><td>1</td><td>237000</td><td>1.3</td><td>135</td><td>50</td><td>63.82</td><td>40</td><td>95</td></tr><tr><td>41</td><td>1</td><td>374000</td><td>0.8</td><td>140</td><td>40</td><td>63.82</td><td>40</td><td>95</td></tr></table>"
                    },
                    "metadata": {}
                }
            ],
            "execution_count": 8
        },
        {
            "cell_type": "markdown",
            "source": [
                "This query produced 42 groups of ages, so only the top 9 groups have an n\\>10. The remaining 33 groups would not be conclusive enough to be effective for an analysis. The table did establish that our minimum age is 40 and our maximum age is 95. If I go by intervals of 5, I can create 11 clean bins.\n",
                "\n",
                "### Creating Bin Segmentation for More Targeted Analysis\n",
                "\n",
                "The next best option would be to create larger bins to establish a more robust dataset. \n",
                "\n",
                "The following table is **_Exhibit 2_**."
            ],
            "metadata": {
                "language": "sql",
                "azdata_cell_guid": "8e48e269-5576-4c2a-9ea2-19f02dbe7e5a"
            },
            "attachments": {}
        },
        {
            "cell_type": "code",
            "source": [
                "--Use a CTE to create bins of ages\n",
                "WITH age_bin AS (\n",
                "    SELECT\n",
                "        Patient_ID,\n",
                "        CASE\n",
                "            WHEN age >= 40 AND age < 46 THEN '40-45'\n",
                "            WHEN age >= 46 AND age < 51 THEN '46-50'\n",
                "            WHEN age >= 51 AND age < 56 THEN '51-55'\n",
                "            WHEN age >= 56 AND age < 61 THEN '56-60'\n",
                "            WHEN age >= 61 AND age < 66 THEN '61-65'\n",
                "            WHEN age >= 66 AND age < 71 THEN '66-70'\n",
                "            WHEN age >= 71 AND age < 76 THEN '71-75'\n",
                "            WHEN age >= 76 AND age < 81 THEN '76-80'\n",
                "            WHEN age >= 81 AND age < 86 THEN '81-85'\n",
                "            WHEN age >= 86 AND age < 91 THEN '86-90'\n",
                "            WHEN age >= 91 AND age < 96 THEN '91-95'\n",
                "        END AS age_bin\n",
                "FROM Heartfailure\n",
                ")\n",
                "\n",
                "--Selecting averages and sums of all applicable attributes across each bin\n",
                "SELECT\n",
                "    age_bin,\n",
                "    COUNT(*) AS age_count,\n",
                "    ROUND(AVG(platelets),2) AS avg_platelet_count,\n",
                "    ROUND(AVG(serum_creatinine),2) AS avg_serum_creatine,\n",
                "    ROUND(AVG(serum_sodium),2) AS avg_serum_sodium,\n",
                "    ROUND(AVG(ejection_fraction),2) AS avg_ejec_frac,\n",
                "    ROUND(AVG(creatinine_phosphokinase),2) AS avg_creatine_phos,\n",
                "    SUM(smoking) AS smoking_count,\n",
                "    SUM(diabetes) AS diabetic_count,\n",
                "    SUM(anaemia) AS anaemia_count,\n",
                "    SUM(high_blood_pressure) AS high_bp_count,\n",
                "    SUM(DEATH_EVENT) AS deaths\n",
                "FROM Heartfailure\n",
                "JOIN\n",
                "    age_bin ON Heartfailure.Patient_ID = age_bin.Patient_ID\n",
                "GROUP BY age_bin\n",
                "ORDER BY age_bin"
            ],
            "metadata": {
                "language": "sql",
                "azdata_cell_guid": "27db122b-0628-453f-a09a-a68513fb51e7"
            },
            "outputs": [
                {
                    "output_type": "display_data",
                    "data": {
                        "text/html": "(11 rows affected)"
                    },
                    "metadata": {}
                },
                {
                    "output_type": "display_data",
                    "data": {
                        "text/html": "Total execution time: 00:00:00.029"
                    },
                    "metadata": {}
                },
                {
                    "output_type": "execute_result",
                    "execution_count": 21,
                    "data": {
                        "application/vnd.dataresource+json": {
                            "schema": {
                                "fields": [
                                    {
                                        "name": "age_bin"
                                    },
                                    {
                                        "name": "age_count"
                                    },
                                    {
                                        "name": "avg_platelet_count"
                                    },
                                    {
                                        "name": "avg_serum_creatine"
                                    },
                                    {
                                        "name": "avg_serum_sodium"
                                    },
                                    {
                                        "name": "avg_ejec_frac"
                                    },
                                    {
                                        "name": "avg_creatine_phos"
                                    },
                                    {
                                        "name": "smoking_count"
                                    },
                                    {
                                        "name": "diabetic_count"
                                    },
                                    {
                                        "name": "anaemia_count"
                                    },
                                    {
                                        "name": "high_bp_count"
                                    },
                                    {
                                        "name": "deaths"
                                    }
                                ]
                            },
                            "data": [
                                {
                                    "0": "40-45",
                                    "1": "37",
                                    "2": "295930.6",
                                    "3": "1.1",
                                    "4": "137",
                                    "5": "38",
                                    "6": "900",
                                    "7": "10",
                                    "8": "17",
                                    "9": "9",
                                    "10": "8",
                                    "11": "7"
                                },
                                {
                                    "0": "46-50",
                                    "1": "37",
                                    "2": "255505.84",
                                    "3": "1.12",
                                    "4": "135",
                                    "5": "34",
                                    "6": "533",
                                    "7": "10",
                                    "8": "16",
                                    "9": "17",
                                    "10": "16",
                                    "11": "12"
                                },
                                {
                                    "0": "51-55",
                                    "1": "38",
                                    "2": "280310.27",
                                    "3": "1.34",
                                    "4": "137",
                                    "5": "40",
                                    "6": "844",
                                    "7": "15",
                                    "8": "12",
                                    "9": "13",
                                    "10": "10",
                                    "11": "6"
                                },
                                {
                                    "0": "56-60",
                                    "1": "52",
                                    "2": "248821.46",
                                    "3": "1.71",
                                    "4": "136",
                                    "5": "37",
                                    "6": "525",
                                    "7": "16",
                                    "8": "30",
                                    "9": "31",
                                    "10": "16",
                                    "11": "20"
                                },
                                {
                                    "0": "61-65",
                                    "1": "46",
                                    "2": "252414.65",
                                    "3": "1.25",
                                    "4": "136",
                                    "5": "39",
                                    "6": "356",
                                    "7": "14",
                                    "8": "24",
                                    "9": "21",
                                    "10": "15",
                                    "11": "9"
                                },
                                {
                                    "0": "66-70",
                                    "1": "37",
                                    "2": "248427.46",
                                    "3": "1.29",
                                    "4": "136",
                                    "5": "39",
                                    "6": "425",
                                    "7": "14",
                                    "8": "13",
                                    "9": "13",
                                    "10": "17",
                                    "11": "11"
                                },
                                {
                                    "0": "71-75",
                                    "1": "22",
                                    "2": "266156.01",
                                    "3": "1.56",
                                    "4": "135",
                                    "5": "34",
                                    "6": "419",
                                    "7": "7",
                                    "8": "6",
                                    "9": "9",
                                    "10": "14",
                                    "11": "12"
                                },
                                {
                                    "0": "76-80",
                                    "1": "12",
                                    "2": "265863.17",
                                    "3": "2.34",
                                    "4": "137",
                                    "5": "38",
                                    "6": "396",
                                    "7": "5",
                                    "8": "3",
                                    "9": "6",
                                    "10": "5",
                                    "11": "6"
                                },
                                {
                                    "0": "81-85",
                                    "1": "10",
                                    "2": "263600",
                                    "3": "1.53",
                                    "4": "135",
                                    "5": "45",
                                    "6": "1310",
                                    "7": "4",
                                    "8": "2",
                                    "9": "4",
                                    "10": "1",
                                    "11": "6"
                                },
                                {
                                    "0": "86-90",
                                    "1": "5",
                                    "2": "269071.61",
                                    "3": "1.35",
                                    "4": "136",
                                    "5": "40",
                                    "6": "235",
                                    "7": "1",
                                    "8": "1",
                                    "9": "4",
                                    "10": "1",
                                    "11": "4"
                                },
                                {
                                    "0": "91-95",
                                    "1": "3",
                                    "2": "306786.01",
                                    "3": "1.61",
                                    "4": "134",
                                    "5": "36",
                                    "6": "355",
                                    "7": "0",
                                    "8": "1",
                                    "9": "2",
                                    "10": "2",
                                    "11": "3"
                                }
                            ]
                        },
                        "text/html": "<table><tr><th>age_bin</th><th>age_count</th><th>avg_platelet_count</th><th>avg_serum_creatine</th><th>avg_serum_sodium</th><th>avg_ejec_frac</th><th>avg_creatine_phos</th><th>smoking_count</th><th>diabetic_count</th><th>anaemia_count</th><th>high_bp_count</th><th>deaths</th></tr><tr><td>40-45</td><td>37</td><td>295930.6</td><td>1.1</td><td>137</td><td>38</td><td>900</td><td>10</td><td>17</td><td>9</td><td>8</td><td>7</td></tr><tr><td>46-50</td><td>37</td><td>255505.84</td><td>1.12</td><td>135</td><td>34</td><td>533</td><td>10</td><td>16</td><td>17</td><td>16</td><td>12</td></tr><tr><td>51-55</td><td>38</td><td>280310.27</td><td>1.34</td><td>137</td><td>40</td><td>844</td><td>15</td><td>12</td><td>13</td><td>10</td><td>6</td></tr><tr><td>56-60</td><td>52</td><td>248821.46</td><td>1.71</td><td>136</td><td>37</td><td>525</td><td>16</td><td>30</td><td>31</td><td>16</td><td>20</td></tr><tr><td>61-65</td><td>46</td><td>252414.65</td><td>1.25</td><td>136</td><td>39</td><td>356</td><td>14</td><td>24</td><td>21</td><td>15</td><td>9</td></tr><tr><td>66-70</td><td>37</td><td>248427.46</td><td>1.29</td><td>136</td><td>39</td><td>425</td><td>14</td><td>13</td><td>13</td><td>17</td><td>11</td></tr><tr><td>71-75</td><td>22</td><td>266156.01</td><td>1.56</td><td>135</td><td>34</td><td>419</td><td>7</td><td>6</td><td>9</td><td>14</td><td>12</td></tr><tr><td>76-80</td><td>12</td><td>265863.17</td><td>2.34</td><td>137</td><td>38</td><td>396</td><td>5</td><td>3</td><td>6</td><td>5</td><td>6</td></tr><tr><td>81-85</td><td>10</td><td>263600</td><td>1.53</td><td>135</td><td>45</td><td>1310</td><td>4</td><td>2</td><td>4</td><td>1</td><td>6</td></tr><tr><td>86-90</td><td>5</td><td>269071.61</td><td>1.35</td><td>136</td><td>40</td><td>235</td><td>1</td><td>1</td><td>4</td><td>1</td><td>4</td></tr><tr><td>91-95</td><td>3</td><td>306786.01</td><td>1.61</td><td>134</td><td>36</td><td>355</td><td>0</td><td>1</td><td>2</td><td>2</td><td>3</td></tr></table>"
                    },
                    "metadata": {}
                }
            ],
            "execution_count": 21
        },
        {
            "cell_type": "markdown",
            "source": [
                "### This query turned out some very valuable insights by aggregating into bins with intervals of 5.\n",
                "\n",
                "1\\. If we only consider an n\\>10 a sufficient bin size, we can see that the 51-55 age range has the best ejection fraction.\n",
                "\n",
                "2\\. The average serum creatine for the 76-80 age range is far higher than the other bins.\n",
                "\n",
                "3\\. The average creatine phosphokinase for the 81-85 age range is far higher than the other bins.\n",
                "\n",
                "4\\. The majority of heart attacks occur within the 56-60 age range, which also has the highest rate of diabetes, anaemia, smoker, deaths, and among the highest high blood pressure occurences.\n",
                "\n",
                "5\\. Younger individuals tend to have lower serum creatine levels, but they are on the higher end of creatine phosphokinase.\n",
                "\n",
                "## Moving to Power BI\n",
                "\n",
                "After achieving valuable initial insights on the data set with SQL, moving to a BI tool will help find more targeted trends and insights by conducting more advanced analysis."
            ],
            "metadata": {
                "language": "sql",
                "azdata_cell_guid": "6ce4a25e-7b1a-4e89-bcbc-73cead21bd92"
            },
            "attachments": {}
        }
    ]
}